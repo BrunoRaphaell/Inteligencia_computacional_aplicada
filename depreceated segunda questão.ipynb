{
 "cells": [
  {
   "cell_type": "markdown",
   "metadata": {},
   "source": [
    "# Questão:\n",
    "\n",
    "![](https://i.imgur.com/0i7xBi2.png)\n",
    "\n",
    "[link 1](https://www.guiadaengenharia.com/programacao-semaforo/)\n",
    "\n",
    "[link 2](https://www.maxwell.vrac.puc-rio.br/2695/2695.PDF)\n",
    "\n",
    "## Conceitos básicos\n",
    "Para iniciarmos, precisamos conhecer alguns conceitos fundamentais a respeito dos semáforos, são eles:\n",
    "\n",
    "**Ciclo:** é o tempo necessário à uma sequência completa de indicações luminosas, ou seja, é o tempo em que a sequência verde, amarelo e vermelho aparece por completo.\n",
    "\n",
    "**Fase:** é a parte do ciclo reservada à uma combinação qualquer de movimentos de tráfego que recebem, simultaneamente, o direito de passagem.\n",
    "\n",
    "**Estágio:** também conhecido como intervalo, é a parte do tempo de ciclo durante o qual não mudam as indicações luminosas.\n",
    "\n",
    "![](https://www.guiadaengenharia.com/wp-content/uploads/2019/01/ciclo-2-fases.png)\n",
    "\n"
   ]
  },
  {
   "cell_type": "code",
   "execution_count": 5,
   "metadata": {},
   "outputs": [
    {
     "data": {
      "text/html": [
       "<div>\n",
       "<style scoped>\n",
       "    .dataframe tbody tr th:only-of-type {\n",
       "        vertical-align: middle;\n",
       "    }\n",
       "\n",
       "    .dataframe tbody tr th {\n",
       "        vertical-align: top;\n",
       "    }\n",
       "\n",
       "    .dataframe thead th {\n",
       "        text-align: right;\n",
       "    }\n",
       "</style>\n",
       "<table border=\"1\" class=\"dataframe\">\n",
       "  <thead>\n",
       "    <tr style=\"text-align: right;\">\n",
       "      <th></th>\n",
       "      <th>Fluxo de veículos (veículo/h)</th>\n",
       "    </tr>\n",
       "    <tr>\n",
       "      <th>Movimentos</th>\n",
       "      <th></th>\n",
       "    </tr>\n",
       "  </thead>\n",
       "  <tbody>\n",
       "    <tr>\n",
       "      <th>1A</th>\n",
       "      <td>2400</td>\n",
       "    </tr>\n",
       "    <tr>\n",
       "      <th>1B</th>\n",
       "      <td>2200</td>\n",
       "    </tr>\n",
       "    <tr>\n",
       "      <th>2A</th>\n",
       "      <td>1250</td>\n",
       "    </tr>\n",
       "    <tr>\n",
       "      <th>2B</th>\n",
       "      <td>1000</td>\n",
       "    </tr>\n",
       "  </tbody>\n",
       "</table>\n",
       "</div>"
      ],
      "text/plain": [
       "            Fluxo de veículos (veículo/h)\n",
       "Movimentos                               \n",
       "1A                                   2400\n",
       "1B                                   2200\n",
       "2A                                   1250\n",
       "2B                                   1000"
      ]
     },
     "execution_count": 5,
     "metadata": {},
     "output_type": "execute_result"
    }
   ],
   "source": [
    "import pandas as pd\n",
    "import numpy as np\n",
    "\n",
    "movimentos = ['1A', '1B', '2A', '2B']\n",
    "fluxo_veiculos = [2400, 2200, 1250, 1000]\n",
    "\n",
    "df = pd.DataFrame(data={'Movimentos': movimentos, 'Fluxo de veículos (veículo/h)': fluxo_veiculos})\n",
    "df.set_index('Movimentos', inplace=True)\n",
    "df"
   ]
  },
  {
   "cell_type": "markdown",
   "metadata": {},
   "source": [
    "Assumindo que a largura das na horizontal é 18m e a largura da vertical é 15m.\n",
    "\n",
    "Utilizando as seguintes suposições:\n",
    "\n",
    "- $T_a = 3s$ (é o tempo de amarelo (s), é geralmente entre 2 e 3s)\n",
    "- $T_{vermelho,total} = 3s$\n",
    "- $T_{percepção} = 3s$\n",
    "\n",
    "Fórmulas usadas:\n",
    "\n",
    "**Taxa de ocupação:**\n",
    "\n",
    "$ y_i = \\frac{q_i}{s_i}$\n",
    "\n",
    "Onde:\n",
    "\n",
    "- $ q_i $ é o fluxo na aproximação (veículo/h);\n",
    "- $ s_i $ é o fluxo de saturação (veículo/h).\n",
    "- $ y_i $ é a taxa de ocupação para a aproximação;\n",
    "\n",
    "**Fluxo de saturação:**\n",
    "\n",
    "$ s_i = 525*L $\n",
    "\n",
    "Onde:\n",
    "\n",
    "- $L$ é a largura da via;\n",
    "\n",
    "**Taxa de ocupação da interseção:**\n",
    "$Y = \\sum_{}^{} y_i^*$\n",
    "\n",
    "Onde:\n",
    "- $y_i^*$ é a taxa máxima para cada estágio.\n",
    "\n",
    "**Tempo perdido:**\n",
    "\n",
    "$T_p = \\sum_{}^{} T_{vermelho,total} + \\sum_{}^{} T_{percepção}$,\n",
    "\n",
    "**Tempo de ciclo:**\n",
    "\n",
    "$T_{co} = \\frac{1,5 * T_p + 5}{1-Y}$\n",
    "\n",
    "**Tempo de verde efeito:**\n",
    "\n",
    "$T_{v,ef,i} = y_i^* * (\\frac{T_{co} - T_p}{Y})$\n",
    "\n",
    "Onde:\n",
    "\n",
    "$T_{v,ef,i}$ é o tempo de verde efetivo para cada estágio;\n",
    "\n",
    "**Tempo de verde real:**\n",
    "\n",
    "$T_{v,real,i} = T_{v,ef,i} + T_{percepção} - T_a$"
   ]
  },
  {
   "cell_type": "code",
   "execution_count": 6,
   "metadata": {},
   "outputs": [
    {
     "data": {
      "text/html": [
       "<div>\n",
       "<style scoped>\n",
       "    .dataframe tbody tr th:only-of-type {\n",
       "        vertical-align: middle;\n",
       "    }\n",
       "\n",
       "    .dataframe tbody tr th {\n",
       "        vertical-align: top;\n",
       "    }\n",
       "\n",
       "    .dataframe thead th {\n",
       "        text-align: right;\n",
       "    }\n",
       "</style>\n",
       "<table border=\"1\" class=\"dataframe\">\n",
       "  <thead>\n",
       "    <tr style=\"text-align: right;\">\n",
       "      <th></th>\n",
       "      <th>Fluxo de veículos (veículo/h)</th>\n",
       "      <th>Taxa de ocupação</th>\n",
       "    </tr>\n",
       "    <tr>\n",
       "      <th>Movimentos</th>\n",
       "      <th></th>\n",
       "      <th></th>\n",
       "    </tr>\n",
       "  </thead>\n",
       "  <tbody>\n",
       "    <tr>\n",
       "      <th>1A</th>\n",
       "      <td>2400</td>\n",
       "      <td>0.25</td>\n",
       "    </tr>\n",
       "    <tr>\n",
       "      <th>1B</th>\n",
       "      <td>2200</td>\n",
       "      <td>0.23</td>\n",
       "    </tr>\n",
       "    <tr>\n",
       "      <th>2A</th>\n",
       "      <td>1250</td>\n",
       "      <td>0.16</td>\n",
       "    </tr>\n",
       "    <tr>\n",
       "      <th>2B</th>\n",
       "      <td>1000</td>\n",
       "      <td>0.13</td>\n",
       "    </tr>\n",
       "  </tbody>\n",
       "</table>\n",
       "</div>"
      ],
      "text/plain": [
       "            Fluxo de veículos (veículo/h)  Taxa de ocupação\n",
       "Movimentos                                                 \n",
       "1A                                   2400              0.25\n",
       "1B                                   2200              0.23\n",
       "2A                                   1250              0.16\n",
       "2B                                   1000              0.13"
      ]
     },
     "execution_count": 6,
     "metadata": {},
     "output_type": "execute_result"
    }
   ],
   "source": [
    "T_a = 3\n",
    "T_vemelho_total = 3\n",
    "T_percepcao = 3\n",
    "\n",
    "l1 = 18\n",
    "l2 = 15\n",
    "\n",
    "s1 = 525 * l1\n",
    "s2 = 525 * l2\n",
    "\n",
    "# Calculando as taxas de ocupações:\n",
    "y_1a = round(df.loc['1A', 'Fluxo de veículos (veículo/h)']/s1, 2)\n",
    "y_1b = round(df.loc['1B', 'Fluxo de veículos (veículo/h)']/s1, 2)\n",
    "y_2a = round(df.loc['2A', 'Fluxo de veículos (veículo/h)']/s2, 2)\n",
    "y_2b = round(df.loc['2B', 'Fluxo de veículos (veículo/h)']/s2, 2)\n",
    "\n",
    "df['Taxa de ocupação'] = [y_1a, y_1b, y_2a, y_2b]\n",
    "df"
   ]
  },
  {
   "cell_type": "code",
   "execution_count": 7,
   "metadata": {},
   "outputs": [
    {
     "data": {
      "text/plain": [
       "([0.25, 0.16], 0.41)"
      ]
     },
     "execution_count": 7,
     "metadata": {},
     "output_type": "execute_result"
    }
   ],
   "source": [
    "# Taxa de ocupação da interseção:\n",
    "\n",
    "max_values = [max(y_1a, y_1b), max(y_2a, y_2b)]\n",
    "Y = round(sum(max_values), 2)\n",
    "(max_values, Y)"
   ]
  },
  {
   "cell_type": "code",
   "execution_count": 8,
   "metadata": {},
   "outputs": [
    {
     "data": {
      "text/plain": [
       "9"
      ]
     },
     "execution_count": 8,
     "metadata": {},
     "output_type": "execute_result"
    }
   ],
   "source": [
    "# Tempo perdido:\n",
    "T_p = T_vemelho_total + T_percepcao*2\n",
    "T_p"
   ]
  },
  {
   "cell_type": "code",
   "execution_count": 9,
   "metadata": {},
   "outputs": [
    {
     "data": {
      "text/plain": [
       "31.36"
      ]
     },
     "execution_count": 9,
     "metadata": {},
     "output_type": "execute_result"
    }
   ],
   "source": [
    "# Tempo de ciclo:\n",
    "T_co = round((1.5 * T_p + 5)/(1 - Y), 2)\n",
    "T_co"
   ]
  },
  {
   "cell_type": "code",
   "execution_count": 10,
   "metadata": {},
   "outputs": [
    {
     "data": {
      "text/plain": [
       "[13.63, 8.73]"
      ]
     },
     "execution_count": 10,
     "metadata": {},
     "output_type": "execute_result"
    }
   ],
   "source": [
    "# Tempo de verde efetivo:\n",
    "T_v_ef = []\n",
    "T_v_ef.append(round(max_values[0] * (T_co - T_p) / Y, 2))\n",
    "T_v_ef.append(round(max_values[1] * (T_co - T_p) / Y, 2))\n",
    "T_v_ef\n"
   ]
  },
  {
   "cell_type": "code",
   "execution_count": 11,
   "metadata": {},
   "outputs": [
    {
     "data": {
      "text/plain": [
       "[13.63, 8.73]"
      ]
     },
     "execution_count": 11,
     "metadata": {},
     "output_type": "execute_result"
    }
   ],
   "source": [
    "T_v_real = []\n",
    "T_v_real.append(round(T_v_ef[0] + T_percepcao - T_a, 2))\n",
    "T_v_real.append(round(T_v_ef[1] + T_percepcao - T_a, 2))\n",
    "T_v_real"
   ]
  },
  {
   "cell_type": "code",
   "execution_count": 12,
   "metadata": {},
   "outputs": [
    {
     "data": {
      "text/html": [
       "<div>\n",
       "<style scoped>\n",
       "    .dataframe tbody tr th:only-of-type {\n",
       "        vertical-align: middle;\n",
       "    }\n",
       "\n",
       "    .dataframe tbody tr th {\n",
       "        vertical-align: top;\n",
       "    }\n",
       "\n",
       "    .dataframe thead th {\n",
       "        text-align: right;\n",
       "    }\n",
       "</style>\n",
       "<table border=\"1\" class=\"dataframe\">\n",
       "  <thead>\n",
       "    <tr style=\"text-align: right;\">\n",
       "      <th>Fase</th>\n",
       "      <th>Tempo de verde efetivo</th>\n",
       "      <th>Tempo de verde real</th>\n",
       "    </tr>\n",
       "  </thead>\n",
       "  <tbody>\n",
       "    <tr>\n",
       "      <th>1</th>\n",
       "      <td>13.63</td>\n",
       "      <td>13.63</td>\n",
       "    </tr>\n",
       "    <tr>\n",
       "      <th>2</th>\n",
       "      <td>8.73</td>\n",
       "      <td>8.73</td>\n",
       "    </tr>\n",
       "  </tbody>\n",
       "</table>\n",
       "</div>"
      ],
      "text/plain": [
       "Fase  Tempo de verde efetivo  Tempo de verde real\n",
       "1                      13.63                13.63\n",
       "2                       8.73                 8.73"
      ]
     },
     "execution_count": 12,
     "metadata": {},
     "output_type": "execute_result"
    }
   ],
   "source": [
    "result = pd.DataFrame(data = {'Tempo de verde efetivo': T_v_ef, 'Tempo de verde real': T_v_real}, index=np.arange(1, 3, 1))\n",
    "result = result.rename_axis('Fase', axis='columns')\n",
    "result"
   ]
  },
  {
   "cell_type": "markdown",
   "metadata": {},
   "source": [
    "# Fuzzificação:"
   ]
  },
  {
   "cell_type": "code",
   "execution_count": 13,
   "metadata": {},
   "outputs": [],
   "source": [
    "import matplotlib.pyplot as plt\n",
    "import numpy as np\n",
    "import skfuzzy as fuzz\n",
    "from skfuzzy import control as ctrl\n",
    "import warnings\n",
    "\n",
    "warnings.filterwarnings('ignore')  # Ignora os avisos de warnings"
   ]
  },
  {
   "cell_type": "markdown",
   "metadata": {},
   "source": [
    "## Definindo as variáveis de entrada do problema."
   ]
  },
  {
   "cell_type": "code",
   "execution_count": 83,
   "metadata": {},
   "outputs": [
    {
     "data": {
      "text/plain": [
       "Text(0.5, 1.0, 'Sinal 1')"
      ]
     },
     "execution_count": 83,
     "metadata": {},
     "output_type": "execute_result"
    },
    {
     "data": {
      "image/png": "[encoded data removed]",
      "text/plain": [
       "<Figure size 432x288 with 1 Axes>"
      ]
     },
     "metadata": {
      "needs_background": "light"
     },
     "output_type": "display_data"
    }
   ],
   "source": [
    "# 1. Sinal da via 1:\n",
    "sinal_1 = ctrl.Antecedent(np.arange(0, int(T_co+1), 1), 'sinal_1')\n",
    "\n",
    "sinal_1['Verde'] = fuzz.trimf(sinal_1.universe, [0, int(T_v_real[0]/2), int(T_v_real[0])])\n",
    "sinal_1['Amarelo'] = fuzz.trimf(sinal_1.universe, [T_v_real[0], (2*T_v_real[0]+T_a)/2, int(T_v_real[0]+T_a)])\n",
    "sinal_1['Vermelho'] = fuzz.trimf(sinal_1.universe, [T_v_real[0]+T_a, (T_v_real[0]+T_a+sinal_1.universe.max())/2, sinal_1.universe.max()])\n",
    "\n",
    "sinal_1.view()\n",
    "plt.xticks(np.arange(0, int(T_co+2), 2))\n",
    "plt.title('Sinal 1')"
   ]
  },
  {
   "cell_type": "code",
   "execution_count": 86,
   "metadata": {},
   "outputs": [
    {
     "data": {
      "text/plain": [
       "Text(0.5, 1.0, 'Sinal 1')"
      ]
     },
     "execution_count": 86,
     "metadata": {},
     "output_type": "execute_result"
    },
    {
     "data": {
      "image/png": "[encoded data removed]",
      "text/plain": [
       "<Figure size 432x288 with 1 Axes>"
      ]
     },
     "metadata": {
      "needs_background": "light"
     },
     "output_type": "display_data"
    }
   ],
   "source": [
    "# 1. Sinal da via 1:\n",
    "sinal_2 = ctrl.Consequent(np.arange(0, int(T_co+1), 1), 'sinal_2')\n",
    "\n",
    "sinal_2['Verde'] = fuzz.trimf(sinal_2.universe, [0, int(T_v_real[1]/2), int(T_v_real[1])])\n",
    "sinal_2['Amarelo'] = fuzz.trimf(sinal_2.universe, [T_v_real[1], (2*T_v_real[1]+T_a)/2, int(T_v_real[1]+T_a)])\n",
    "sinal_2['Vermelho'] = fuzz.trimf(sinal_2.universe, [T_v_real[1]+T_a, (T_v_real[0]+T_a+sinal_2.universe.max())/2, sinal_2.universe.max()])\n",
    "\n",
    "sinal_2.view()\n",
    "plt.xticks(np.arange(0, int(T_co+2), 2))\n",
    "plt.title('Sinal 1')\n"
   ]
  },
  {
   "cell_type": "markdown",
   "metadata": {},
   "source": [
    "# Inferência\n",
    "\n",
    "min -> And\n",
    "\n",
    "Max -> OR\n",
    "\n",
    "## Regras: "
   ]
  },
  {
   "cell_type": "code",
   "execution_count": 88,
   "metadata": {},
   "outputs": [
    {
     "ename": "ValueError",
     "evalue": "Unexpected input: Verde",
     "output_type": "error",
     "traceback": [
      "\u001b[1;31m---------------------------------------------------------------------------\u001b[0m",
      "\u001b[1;31mValueError\u001b[0m                                Traceback (most recent call last)",
      "\u001b[1;32m~\\AppData\\Local\\Temp/ipykernel_15120/2963680326.py\u001b[0m in \u001b[0;36m<module>\u001b[1;34m\u001b[0m\n\u001b[0;32m      5\u001b[0m \u001b[0msistema\u001b[0m \u001b[1;33m=\u001b[0m \u001b[0mctrl\u001b[0m\u001b[1;33m.\u001b[0m\u001b[0mControlSystemSimulation\u001b[0m\u001b[1;33m(\u001b[0m\u001b[0msistema_controle\u001b[0m\u001b[1;33m)\u001b[0m\u001b[1;33m\u001b[0m\u001b[1;33m\u001b[0m\u001b[0m\n\u001b[0;32m      6\u001b[0m \u001b[1;33m\u001b[0m\u001b[0m\n\u001b[1;32m----> 7\u001b[1;33m \u001b[0msistema\u001b[0m\u001b[1;33m.\u001b[0m\u001b[0minput\u001b[0m\u001b[1;33m[\u001b[0m\u001b[1;34m'Verde'\u001b[0m\u001b[1;33m]\u001b[0m \u001b[1;33m=\u001b[0m \u001b[1;36m5\u001b[0m\u001b[1;33m\u001b[0m\u001b[1;33m\u001b[0m\u001b[0m\n\u001b[0m\u001b[0;32m      8\u001b[0m \u001b[0msistema\u001b[0m\u001b[1;33m.\u001b[0m\u001b[0minput\u001b[0m\u001b[1;33m[\u001b[0m\u001b[1;34m'amarelo'\u001b[0m\u001b[1;33m]\u001b[0m \u001b[1;33m=\u001b[0m \u001b[1;36m1\u001b[0m\u001b[1;33m\u001b[0m\u001b[1;33m\u001b[0m\u001b[0m\n\u001b[0;32m      9\u001b[0m \u001b[0msistema\u001b[0m\u001b[1;33m.\u001b[0m\u001b[0minput\u001b[0m\u001b[1;33m[\u001b[0m\u001b[1;34m'Vermelho'\u001b[0m\u001b[1;33m]\u001b[0m \u001b[1;33m=\u001b[0m \u001b[1;36m25\u001b[0m\u001b[1;33m\u001b[0m\u001b[1;33m\u001b[0m\u001b[0m\n",
      "\u001b[1;32m~\\Anaconda3\\envs\\ambiente\\lib\\site-packages\\skfuzzy\\control\\controlsystem.py\u001b[0m in \u001b[0;36m__setitem__\u001b[1;34m(self, key, value)\u001b[0m\n\u001b[0;32m    166\u001b[0m \u001b[1;33m\u001b[0m\u001b[0m\n\u001b[0;32m    167\u001b[0m         \u001b[1;32mif\u001b[0m \u001b[0mlen\u001b[0m\u001b[1;33m(\u001b[0m\u001b[0mmatches\u001b[0m\u001b[1;33m)\u001b[0m \u001b[1;33m==\u001b[0m \u001b[1;36m0\u001b[0m\u001b[1;33m:\u001b[0m\u001b[1;33m\u001b[0m\u001b[1;33m\u001b[0m\u001b[0m\n\u001b[1;32m--> 168\u001b[1;33m             \u001b[1;32mraise\u001b[0m \u001b[0mValueError\u001b[0m\u001b[1;33m(\u001b[0m\u001b[1;34m\"Unexpected input: \"\u001b[0m \u001b[1;33m+\u001b[0m \u001b[0mkey\u001b[0m\u001b[1;33m)\u001b[0m\u001b[1;33m\u001b[0m\u001b[1;33m\u001b[0m\u001b[0m\n\u001b[0m\u001b[0;32m    169\u001b[0m         \u001b[1;32massert\u001b[0m \u001b[0mlen\u001b[0m\u001b[1;33m(\u001b[0m\u001b[0mmatches\u001b[0m\u001b[1;33m)\u001b[0m \u001b[1;33m==\u001b[0m \u001b[1;36m1\u001b[0m\u001b[1;33m\u001b[0m\u001b[1;33m\u001b[0m\u001b[0m\n\u001b[0;32m    170\u001b[0m         \u001b[0mvar\u001b[0m \u001b[1;33m=\u001b[0m \u001b[0mmatches\u001b[0m\u001b[1;33m[\u001b[0m\u001b[1;36m0\u001b[0m\u001b[1;33m]\u001b[0m\u001b[1;33m\u001b[0m\u001b[1;33m\u001b[0m\u001b[0m\n",
      "\u001b[1;31mValueError\u001b[0m: Unexpected input: Verde"
     ]
    }
   ],
   "source": [
    "regra1 = ctrl.Rule(sinal_1['Verde']  | sinal_1['Amarelo'], sinal_2['Vermelho'])\n",
    "regra2 = ctrl.Rule(sinal_1['Amarelo'] | sinal_1['Vermelho'], sinal_2['Verde'])\n",
    "\n",
    "sistema_controle = ctrl.ControlSystem([regra1, regra2])\n",
    "sistema = ctrl.ControlSystemSimulation(sistema_controle)\n",
    "\n",
    "sistema.input['Verde'] = 5\n",
    "sistema.input['amarelo'] = 1\n",
    "sistema.input['Vermelho'] = 25\n",
    "\n",
    "sistema.compute()\n",
    "\n",
    "print(f\"Score: {sistema.output['sinal_2']:.2f}\")\n",
    "\n",
    "labels = ['Baixo', 'Médio', 'Alto', 'Centroid']\n",
    "\n",
    "sinal_2.view(sim=sistema)\n",
    "plt.title('Score')\n",
    "plt.grid(color='green', linestyle = '--', linewidth = 0.5)\n",
    "plt.legend(labels, bbox_to_anchor=(0,-0.3,1,0.2), loc='lower center', mode='expand', ncol=4)\n",
    "plt.show()\n"
   ]
  }
 ],
 "metadata": {
  "interpreter": {
   "hash": "bf557167d0e1f62200bd038d8f03414d51ce69206a74f3521268fd330d8e9f72"
  },
  "kernelspec": {
   "display_name": "Python 3.8.12 64-bit ('ambiente': conda)",
   "language": "python",
   "name": "python3"
  },
  "language_info": {
   "codemirror_mode": {
    "name": "ipython",
    "version": 3
   },
   "file_extension": ".py",
   "mimetype": "text/x-python",
   "name": "python",
   "nbconvert_exporter": "python",
   "pygments_lexer": "ipython3",
   "version": "3.8.12"
  },
  "orig_nbformat": 4
 },
 "nbformat": 4,
 "nbformat_minor": 2
}
